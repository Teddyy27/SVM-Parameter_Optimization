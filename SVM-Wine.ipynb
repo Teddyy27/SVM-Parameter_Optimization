{
  "cells": [
    {
      "cell_type": "markdown",
      "metadata": {
        "id": "view-in-github",
        "colab_type": "text"
      },
      "source": [
        "<a href=\"https://colab.research.google.com/github/Teddyy27/SVM-Parameter_Optimization/blob/main/SVM-Wine.ipynb\" target=\"_parent\"><img src=\"https://colab.research.google.com/assets/colab-badge.svg\" alt=\"Open In Colab\"/></a>"
      ]
    },
    {
      "cell_type": "code",
      "execution_count": 1,
      "id": "19bf95c0",
      "metadata": {
        "colab": {
          "base_uri": "https://localhost:8080/"
        },
        "id": "19bf95c0",
        "outputId": "3267d149-cefb-4b1e-cf75-b8064a7515f5"
      },
      "outputs": [
        {
          "output_type": "stream",
          "name": "stdout",
          "text": [
            "Collecting ucimlrepo\n",
            "  Downloading ucimlrepo-0.0.7-py3-none-any.whl.metadata (5.5 kB)\n",
            "Requirement already satisfied: pandas>=1.0.0 in /usr/local/lib/python3.11/dist-packages (from ucimlrepo) (2.2.2)\n",
            "Requirement already satisfied: certifi>=2020.12.5 in /usr/local/lib/python3.11/dist-packages (from ucimlrepo) (2025.1.31)\n",
            "Requirement already satisfied: numpy>=1.23.2 in /usr/local/lib/python3.11/dist-packages (from pandas>=1.0.0->ucimlrepo) (2.0.2)\n",
            "Requirement already satisfied: python-dateutil>=2.8.2 in /usr/local/lib/python3.11/dist-packages (from pandas>=1.0.0->ucimlrepo) (2.8.2)\n",
            "Requirement already satisfied: pytz>=2020.1 in /usr/local/lib/python3.11/dist-packages (from pandas>=1.0.0->ucimlrepo) (2025.2)\n",
            "Requirement already satisfied: tzdata>=2022.7 in /usr/local/lib/python3.11/dist-packages (from pandas>=1.0.0->ucimlrepo) (2025.2)\n",
            "Requirement already satisfied: six>=1.5 in /usr/local/lib/python3.11/dist-packages (from python-dateutil>=2.8.2->pandas>=1.0.0->ucimlrepo) (1.17.0)\n",
            "Downloading ucimlrepo-0.0.7-py3-none-any.whl (8.0 kB)\n",
            "Installing collected packages: ucimlrepo\n",
            "Successfully installed ucimlrepo-0.0.7\n"
          ]
        }
      ],
      "source": [
        "!pip install ucimlrepo"
      ]
    },
    {
      "cell_type": "code",
      "source": [
        "from ucimlrepo import fetch_ucirepo\n",
        "from sklearn.model_selection import train_test_split\n",
        "wine_data = fetch_ucirepo(id=186)\n",
        "X_all = wine_data.data.features\n",
        "y_all = wine_data.data.targets.squeeze().astype(int)  # convert to int classes"
      ],
      "metadata": {
        "id": "F0oYDJajNqp9"
      },
      "id": "F0oYDJajNqp9",
      "execution_count": 2,
      "outputs": []
    },
    {
      "cell_type": "code",
      "execution_count": 3,
      "id": "9becdcb4",
      "metadata": {
        "id": "9becdcb4"
      },
      "outputs": [],
      "source": [
        "from sklearn.svm import SVC\n",
        "import numpy as np\n",
        "import matplotlib.pyplot as plt\n"
      ]
    },
    {
      "cell_type": "code",
      "execution_count": 4,
      "id": "06eaa81f",
      "metadata": {
        "id": "06eaa81f"
      },
      "outputs": [],
      "source": [
        "kernelList = ['linear', 'poly', 'rbf', 'sigmoid']\n",
        "overall_results = []\n",
        "best_overall_accuracy = 0\n",
        "best_sample_log = None"
      ]
    },
    {
      "cell_type": "code",
      "execution_count": 7,
      "id": "fb46f992",
      "metadata": {
        "id": "fb46f992"
      },
      "outputs": [],
      "source": [
        "from sklearn.ensemble import RandomForestClassifier\n",
        "from sklearn.metrics import accuracy_score\n",
        "import random as r\n",
        "import pandas as pd\n",
        "\n",
        "# Prepare a list to store the results for each sample\n",
        "overall_results = []\n",
        "\n",
        "# Initialize variables for tracking the best overall accuracy and corresponding parameters\n",
        "best_overall_accuracy = 0\n",
        "best_sample_log = None\n",
        "\n",
        "kernelList = ['gini', 'entropy']  # Not used for RandomForest, but included for reference\n",
        "\n",
        "for sample_no in range(10):\n",
        "    # Split the dataset into training and testing sets\n",
        "    X_train_full, X_test, y_train_full, y_test = train_test_split(\n",
        "        X_all, y_all, test_size=0.3, random_state=sample_no)\n",
        "\n",
        "    # Select only 50 rows for training\n",
        "    X_train = X_train_full.sample(n=50, random_state=sample_no)\n",
        "    y_train = y_train_full.loc[X_train.index]\n",
        "\n",
        "    # Reset index if needed\n",
        "    X_train = X_train.reset_index(drop=True)\n",
        "    y_train = y_train.reset_index(drop=True)\n",
        "\n",
        "    # Initialize best accuracy and corresponding parameters\n",
        "    bestAccuracy = 0\n",
        "    bestNEstimators = 0\n",
        "    bestMaxDepth = 0\n",
        "    bestMinSamplesSplit = 0\n",
        "    iteration_log = []\n",
        "\n",
        "    # Optimization loop for 100 iterations\n",
        "    for i in range(100):\n",
        "        # Randomly choose hyperparameters for the RandomForest model\n",
        "        n_estimators = r.randint(50, 200)  # Random number of trees in forest\n",
        "        max_depth = r.randint(1, 20)  # Random max depth of each tree\n",
        "        min_samples_split = r.randint(2, 20)  # Random minimum samples for splitting a node\n",
        "\n",
        "        try:\n",
        "            # Initialize the model with the chosen parameters\n",
        "            model = RandomForestClassifier(n_estimators=n_estimators, max_depth=max_depth, min_samples_split=min_samples_split, random_state=sample_no)\n",
        "            model.fit(X_train, y_train)\n",
        "            preds = model.predict(X_test)\n",
        "            acc = accuracy_score(y_test, preds) * 100  # Calculate accuracy\n",
        "        except:\n",
        "            acc = 0  # In case of errors, set accuracy to 0\n",
        "\n",
        "        # Update the best accuracy and parameters if current model performs better\n",
        "        if acc > bestAccuracy:\n",
        "            bestAccuracy = acc\n",
        "            bestNEstimators = n_estimators\n",
        "            bestMaxDepth = max_depth\n",
        "            bestMinSamplesSplit = min_samples_split\n",
        "\n",
        "        # Log the progress every 10 iterations\n",
        "        if i % 10 == 0:\n",
        "            iteration_log.append({\n",
        "                'Iteration': i,\n",
        "                'Fitness (bestAccuracy)': round(bestAccuracy, 4),\n",
        "                'bestNEstimators': bestNEstimators,\n",
        "                'bestMaxDepth': bestMaxDepth,\n",
        "                'bestMinSamplesSplit': bestMinSamplesSplit,\n",
        "                'sample_no': sample_no\n",
        "            })\n",
        "\n",
        "    # Store the results for the current sample\n",
        "    overall_results.append({\n",
        "        'Sample': sample_no,\n",
        "        'BestAccuracy': round(bestAccuracy, 4),\n",
        "        'N_Estimators': bestNEstimators,\n",
        "        'MaxDepth': bestMaxDepth,\n",
        "        'MinSamplesSplit': bestMinSamplesSplit\n",
        "    })\n",
        "\n",
        "    # Update the best overall accuracy and sample log if needed\n",
        "    if bestAccuracy > best_overall_accuracy:\n",
        "        best_overall_accuracy = bestAccuracy\n",
        "        best_sample_log = pd.DataFrame(iteration_log)\n",
        "\n",
        "# Display the results in a table\n",
        "results_df = pd.DataFrame(overall_results)\n",
        "results_df.to_csv('optimization_results.csv', index=False)\n",
        "\n"
      ]
    },
    {
      "cell_type": "code",
      "execution_count": 9,
      "id": "08cb6afc",
      "metadata": {
        "colab": {
          "base_uri": "https://localhost:8080/",
          "height": 336
        },
        "id": "08cb6afc",
        "outputId": "b6e0f1ff-5cfd-49bf-df52-5d86d82f31b9"
      },
      "outputs": [
        {
          "output_type": "display_data",
          "data": {
            "text/plain": [
              "<Figure size 1000x500 with 1 Axes>"
            ],
            "image/png": "[encoded data removed]"
          },
          "metadata": {}
        }
      ],
      "source": [
        "plt.figure(figsize=(10, 5))\n",
        "plt.plot(best_sample_log['Iteration'], best_sample_log['Fitness (bestAccuracy)'], marker='o', linestyle='-', color='cyan')\n",
        "plt.title('Convergence Plot of Best Random Forest Model', fontsize=14)\n",
        "plt.xlabel('Iteration')\n",
        "plt.ylabel('Accuracy (%)')\n",
        "plt.grid(True)\n",
        "plt.tight_layout()\n",
        "plt.show()"
      ]
    },
    {
      "cell_type": "code",
      "execution_count": 10,
      "id": "4d1547c8",
      "metadata": {
        "colab": {
          "base_uri": "https://localhost:8080/"
        },
        "id": "4d1547c8",
        "outputId": "ef61627d-1841-488c-9d5b-a33a376a7a52"
      },
      "outputs": [
        {
          "output_type": "stream",
          "name": "stdout",
          "text": [
            "Iteration-wise Accuracy:\n",
            "Iteration 0.0 - Accuracy: 50.72%\n",
            "Iteration 10.0 - Accuracy: 51.49%\n",
            "Iteration 20.0 - Accuracy: 51.49%\n",
            "Iteration 30.0 - Accuracy: 51.49%\n",
            "Iteration 40.0 - Accuracy: 51.49%\n",
            "Iteration 50.0 - Accuracy: 51.49%\n",
            "Iteration 60.0 - Accuracy: 51.49%\n",
            "Iteration 70.0 - Accuracy: 51.49%\n",
            "Iteration 80.0 - Accuracy: 51.59%\n",
            "Iteration 90.0 - Accuracy: 51.59%\n"
          ]
        }
      ],
      "source": [
        "# Check if the best sample log is available\n",
        "if best_sample_log is not None:\n",
        "    # Print accuracy for each iteration\n",
        "    print(\"Iteration-wise Accuracy:\")\n",
        "    for index, row in best_sample_log.iterrows():\n",
        "        print(f\"Iteration {row['Iteration']} - Accuracy: {row['Fitness (bestAccuracy)']:.2f}%\")\n",
        "else:\n",
        "    print(\"No best sample log available.\")\n"
      ]
    }
  ],
  "metadata": {
    "kernelspec": {
      "display_name": "Python 3",
      "name": "python3"
    },
    "language_info": {
      "codemirror_mode": {
        "name": "ipython",
        "version": 3
      },
      "file_extension": ".py",
      "mimetype": "text/x-python",
      "name": "python",
      "nbconvert_exporter": "python",
      "pygments_lexer": "ipython3",
      "version": "3.12.4"
    },
    "colab": {
      "provenance": [],
      "gpuType": "T4",
      "include_colab_link": true
    },
    "accelerator": "GPU"
  },
  "nbformat": 4,
  "nbformat_minor": 5
}